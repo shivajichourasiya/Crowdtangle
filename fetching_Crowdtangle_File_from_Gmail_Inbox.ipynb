{
 "cells": [
  {
   "cell_type": "code",
   "execution_count": null,
   "metadata": {},
   "outputs": [],
   "source": [
    "import imaplib\n",
    "import email\n",
    "import re\n",
    "import json\n",
    "import urllib.request"
   ]
  },
  {
   "cell_type": "code",
   "execution_count": null,
   "metadata": {},
   "outputs": [],
   "source": [
    "host = 'imap.gmail.com'\n",
    "username = 'XXXXX@gmail.com'\n",
    "password = 'XXXXXX'\n",
    "Save_File_path = r'C:\\Users\\schoursi\\Desktop\\World\\Daily updates\\VB Index Data\\Facebook\\06-02-2021\\TEST'\n",
    "\n",
    "# Gmail Setting: Go to Account> security> Turn ON Less secure apps access\n",
    "# Mails should be in unread format"
   ]
  },
  {
   "cell_type": "code",
   "execution_count": null,
   "metadata": {},
   "outputs": [],
   "source": [
    "def get_inbox():\n",
    "    mail = imaplib.IMAP4_SSL(host)\n",
    "    mail.login(username, password)\n",
    "    mail.select(\"inbox\")\n",
    "    _, search_data = mail.search(None, 'UNSEEN', '(FROM \"CrowdTangle\")')\n",
    "    my_message = []\n",
    "    for num in search_data[0].split():\n",
    "        email_data = {}\n",
    "        _, data = mail.fetch(num, '(RFC822)')\n",
    "        # print(data[0])\n",
    "        _, b = data[0]\n",
    "        email_message = email.message_from_bytes(b)\n",
    "        for header in ['subject', 'to', 'from', 'date']:\n",
    "            print(\"{}: {}\".format(header, email_message[header]))\n",
    "            email_data[header] = email_message[header]\n",
    "        for part in email_message.walk():\n",
    "            if part.get_content_type() == \"text/plain\":\n",
    "                body = part.get_payload(decode=True)\n",
    "                email_data['body'] = body.decode()\n",
    "            elif part.get_content_type() == \"text/html\":\n",
    "                html_body = part.get_payload(decode=True)\n",
    "                email_data['html_body'] = html_body.decode()\n",
    "        my_message.append(email_data)\n",
    "    return my_message"
   ]
  },
  {
   "cell_type": "code",
   "execution_count": null,
   "metadata": {},
   "outputs": [],
   "source": [
    "def get_file():\n",
    "    \n",
    "    Message_list =list()\n",
    "    Message_Urls =list()\n",
    "    \n",
    "    my_inbox = get_inbox()\n",
    "    \n",
    "    for messages in range(len(my_inbox)):\n",
    "        Message_list.append(str(my_inbox[messages]))\n",
    "        \n",
    "    for messages in range(len(Message_list)):\n",
    "        UrlList = re.findall('http[s]?://(?:[a-zA-Z]|[0-9]|[$-_@.&+]|[!*\\(\\),]|(?:%[0-9a-fA-F][0-9a-fA-F]))+', Message_list[messages])\n",
    "        Message_Urls.append(UrlList[0])\n",
    "        Message_Urls[messages] = str(Message_Urls[messages].replace('\\'>CSV',''))\n",
    "        \n",
    "    for files in range(len(Message_Urls)):\n",
    "        urllib.request.urlretrieve(Message_Urls[files],Save_File_path+'\\File_'+ str(files+1) +'.csv')"
   ]
  },
  {
   "cell_type": "code",
   "execution_count": null,
   "metadata": {},
   "outputs": [],
   "source": [
    "if __name__ == \"__main__\":\n",
    "    files = get_file()\n",
    "    #print(my_inbox)\n",
    "# print(search_data)"
   ]
  },
  {
   "cell_type": "code",
   "execution_count": null,
   "metadata": {},
   "outputs": [],
   "source": []
  },
  {
   "cell_type": "code",
   "execution_count": null,
   "metadata": {},
   "outputs": [],
   "source": []
  }
 ],
 "metadata": {
  "kernelspec": {
   "display_name": "Python 3",
   "language": "python",
   "name": "python3"
  },
  "language_info": {
   "codemirror_mode": {
    "name": "ipython",
    "version": 3
   },
   "file_extension": ".py",
   "mimetype": "text/x-python",
   "name": "python",
   "nbconvert_exporter": "python",
   "pygments_lexer": "ipython3",
   "version": "3.8.5"
  }
 },
 "nbformat": 4,
 "nbformat_minor": 4
}
